{
 "cells": [
  {
   "cell_type": "markdown",
   "metadata": {},
   "source": [
    "# Install and Import Packages"
   ]
  },
  {
   "cell_type": "code",
   "execution_count": 1,
   "metadata": {},
   "outputs": [
    {
     "name": "stdout",
     "output_type": "stream",
     "text": [
      "Requirement already satisfied: pandas-datareader in c:\\users\\flash\\anaconda3\\lib\\site-packages (0.9.0)\n",
      "Requirement already satisfied: pandas>=0.23 in c:\\users\\flash\\anaconda3\\lib\\site-packages (from pandas-datareader) (0.24.2)\n",
      "Requirement already satisfied: requests>=2.19.0 in c:\\users\\flash\\anaconda3\\lib\\site-packages (from pandas-datareader) (2.25.1)\n",
      "Requirement already satisfied: lxml in c:\\users\\flash\\anaconda3\\lib\\site-packages (from pandas-datareader) (4.6.2)\n",
      "Requirement already satisfied: numpy>=1.12.0 in c:\\users\\flash\\anaconda3\\lib\\site-packages (from pandas>=0.23->pandas-datareader) (1.19.2)\n",
      "Requirement already satisfied: python-dateutil>=2.5.0 in c:\\users\\flash\\anaconda3\\lib\\site-packages (from pandas>=0.23->pandas-datareader) (2.8.1)\n",
      "Requirement already satisfied: pytz>=2011k in c:\\users\\flash\\anaconda3\\lib\\site-packages (from pandas>=0.23->pandas-datareader) (2020.4)\n",
      "Requirement already satisfied: chardet<5,>=3.0.2 in c:\\users\\flash\\anaconda3\\lib\\site-packages (from requests>=2.19.0->pandas-datareader) (3.0.4)\n",
      "Requirement already satisfied: idna<3,>=2.5 in c:\\users\\flash\\anaconda3\\lib\\site-packages (from requests>=2.19.0->pandas-datareader) (2.10)\n",
      "Requirement already satisfied: urllib3<1.27,>=1.21.1 in c:\\users\\flash\\anaconda3\\lib\\site-packages (from requests>=2.19.0->pandas-datareader) (1.26.2)\n",
      "Requirement already satisfied: certifi>=2017.4.17 in c:\\users\\flash\\anaconda3\\lib\\site-packages (from requests>=2.19.0->pandas-datareader) (2020.12.5)\n",
      "Requirement already satisfied: six>=1.5 in c:\\users\\flash\\anaconda3\\lib\\site-packages (from python-dateutil>=2.5.0->pandas>=0.23->pandas-datareader) (1.15.0)\n"
     ]
    }
   ],
   "source": [
    "# install this package \n",
    "!pip install pandas-datareader"
   ]
  },
  {
   "cell_type": "code",
   "execution_count": 2,
   "metadata": {},
   "outputs": [],
   "source": [
    "# import packages\n",
    "import pandas as pd\n",
    "import numpy as np\n",
    "import pandas_datareader as pdr\n",
    "import matplotlib.pyplot as plt\n",
    "%matplotlib inline"
   ]
  },
  {
   "cell_type": "markdown",
   "metadata": {},
   "source": [
    "# Gather Data From Yahoo Finanace"
   ]
  },
  {
   "cell_type": "code",
   "execution_count": 3,
   "metadata": {},
   "outputs": [],
   "source": [
    "# Setting dates of data pull\n",
    "startdate = '2017-01-01'\n",
    "enddate = '2020-12-31'\n",
    "\n",
    "# Apply Pandas DataReader\n",
    "AMD = pdr.DataReader('AMD','yahoo', startdate, enddate)\n",
    "AAPL = pdr.DataReader('AAPL','yahoo', startdate, enddate)\n",
    "MSFT = pdr.DataReader('MSFT','yahoo', startdate, enddate)\n",
    "ORCL = pdr.DataReader('ORCL','yahoo', startdate, enddate)"
   ]
  },
  {
   "cell_type": "code",
   "execution_count": 4,
   "metadata": {},
   "outputs": [
    {
     "data": {
      "text/html": [
       "<div>\n",
       "<style scoped>\n",
       "    .dataframe tbody tr th:only-of-type {\n",
       "        vertical-align: middle;\n",
       "    }\n",
       "\n",
       "    .dataframe tbody tr th {\n",
       "        vertical-align: top;\n",
       "    }\n",
       "\n",
       "    .dataframe thead th {\n",
       "        text-align: right;\n",
       "    }\n",
       "</style>\n",
       "<table border=\"1\" class=\"dataframe\">\n",
       "  <thead>\n",
       "    <tr style=\"text-align: right;\">\n",
       "      <th></th>\n",
       "      <th>High</th>\n",
       "      <th>Low</th>\n",
       "      <th>Open</th>\n",
       "      <th>Close</th>\n",
       "      <th>Volume</th>\n",
       "      <th>Adj Close</th>\n",
       "    </tr>\n",
       "    <tr>\n",
       "      <th>Date</th>\n",
       "      <th></th>\n",
       "      <th></th>\n",
       "      <th></th>\n",
       "      <th></th>\n",
       "      <th></th>\n",
       "      <th></th>\n",
       "    </tr>\n",
       "  </thead>\n",
       "  <tbody>\n",
       "    <tr>\n",
       "      <th>2017-01-03</th>\n",
       "      <td>11.65</td>\n",
       "      <td>11.02</td>\n",
       "      <td>11.42</td>\n",
       "      <td>11.43</td>\n",
       "      <td>55182000</td>\n",
       "      <td>11.43</td>\n",
       "    </tr>\n",
       "    <tr>\n",
       "      <th>2017-01-04</th>\n",
       "      <td>11.52</td>\n",
       "      <td>11.24</td>\n",
       "      <td>11.45</td>\n",
       "      <td>11.43</td>\n",
       "      <td>40781200</td>\n",
       "      <td>11.43</td>\n",
       "    </tr>\n",
       "    <tr>\n",
       "      <th>2017-01-05</th>\n",
       "      <td>11.69</td>\n",
       "      <td>11.23</td>\n",
       "      <td>11.43</td>\n",
       "      <td>11.24</td>\n",
       "      <td>38855200</td>\n",
       "      <td>11.24</td>\n",
       "    </tr>\n",
       "    <tr>\n",
       "      <th>2017-01-06</th>\n",
       "      <td>11.49</td>\n",
       "      <td>11.11</td>\n",
       "      <td>11.29</td>\n",
       "      <td>11.32</td>\n",
       "      <td>34453500</td>\n",
       "      <td>11.32</td>\n",
       "    </tr>\n",
       "    <tr>\n",
       "      <th>2017-01-09</th>\n",
       "      <td>11.64</td>\n",
       "      <td>11.31</td>\n",
       "      <td>11.37</td>\n",
       "      <td>11.49</td>\n",
       "      <td>37304800</td>\n",
       "      <td>11.49</td>\n",
       "    </tr>\n",
       "  </tbody>\n",
       "</table>\n",
       "</div>"
      ],
      "text/plain": [
       "             High    Low   Open  Close    Volume  Adj Close\n",
       "Date                                                       \n",
       "2017-01-03  11.65  11.02  11.42  11.43  55182000      11.43\n",
       "2017-01-04  11.52  11.24  11.45  11.43  40781200      11.43\n",
       "2017-01-05  11.69  11.23  11.43  11.24  38855200      11.24\n",
       "2017-01-06  11.49  11.11  11.29  11.32  34453500      11.32\n",
       "2017-01-09  11.64  11.31  11.37  11.49  37304800      11.49"
      ]
     },
     "execution_count": 4,
     "metadata": {},
     "output_type": "execute_result"
    }
   ],
   "source": [
    "AMD.head()"
   ]
  },
  {
   "cell_type": "code",
   "execution_count": 5,
   "metadata": {},
   "outputs": [
    {
     "data": {
      "text/html": [
       "<div>\n",
       "<style scoped>\n",
       "    .dataframe tbody tr th:only-of-type {\n",
       "        vertical-align: middle;\n",
       "    }\n",
       "\n",
       "    .dataframe tbody tr th {\n",
       "        vertical-align: top;\n",
       "    }\n",
       "\n",
       "    .dataframe thead th {\n",
       "        text-align: right;\n",
       "    }\n",
       "</style>\n",
       "<table border=\"1\" class=\"dataframe\">\n",
       "  <thead>\n",
       "    <tr style=\"text-align: right;\">\n",
       "      <th></th>\n",
       "      <th>High</th>\n",
       "      <th>Low</th>\n",
       "      <th>Open</th>\n",
       "      <th>Close</th>\n",
       "      <th>Volume</th>\n",
       "      <th>Adj Close</th>\n",
       "    </tr>\n",
       "    <tr>\n",
       "      <th>Date</th>\n",
       "      <th></th>\n",
       "      <th></th>\n",
       "      <th></th>\n",
       "      <th></th>\n",
       "      <th></th>\n",
       "      <th></th>\n",
       "    </tr>\n",
       "  </thead>\n",
       "  <tbody>\n",
       "    <tr>\n",
       "      <th>2020-12-24</th>\n",
       "      <td>92.510002</td>\n",
       "      <td>91.309998</td>\n",
       "      <td>91.800003</td>\n",
       "      <td>91.809998</td>\n",
       "      <td>16705900</td>\n",
       "      <td>91.809998</td>\n",
       "    </tr>\n",
       "    <tr>\n",
       "      <th>2020-12-28</th>\n",
       "      <td>93.139999</td>\n",
       "      <td>90.820000</td>\n",
       "      <td>92.930000</td>\n",
       "      <td>91.599998</td>\n",
       "      <td>30627300</td>\n",
       "      <td>91.599998</td>\n",
       "    </tr>\n",
       "    <tr>\n",
       "      <th>2020-12-29</th>\n",
       "      <td>92.459999</td>\n",
       "      <td>89.430000</td>\n",
       "      <td>91.660004</td>\n",
       "      <td>90.620003</td>\n",
       "      <td>31748200</td>\n",
       "      <td>90.620003</td>\n",
       "    </tr>\n",
       "    <tr>\n",
       "      <th>2020-12-30</th>\n",
       "      <td>92.849998</td>\n",
       "      <td>90.190002</td>\n",
       "      <td>90.779999</td>\n",
       "      <td>92.290001</td>\n",
       "      <td>25845000</td>\n",
       "      <td>92.290001</td>\n",
       "    </tr>\n",
       "    <tr>\n",
       "      <th>2020-12-31</th>\n",
       "      <td>92.300003</td>\n",
       "      <td>90.870003</td>\n",
       "      <td>92.099998</td>\n",
       "      <td>91.709999</td>\n",
       "      <td>24920500</td>\n",
       "      <td>91.709999</td>\n",
       "    </tr>\n",
       "  </tbody>\n",
       "</table>\n",
       "</div>"
      ],
      "text/plain": [
       "                 High        Low       Open      Close    Volume  Adj Close\n",
       "Date                                                                       \n",
       "2020-12-24  92.510002  91.309998  91.800003  91.809998  16705900  91.809998\n",
       "2020-12-28  93.139999  90.820000  92.930000  91.599998  30627300  91.599998\n",
       "2020-12-29  92.459999  89.430000  91.660004  90.620003  31748200  90.620003\n",
       "2020-12-30  92.849998  90.190002  90.779999  92.290001  25845000  92.290001\n",
       "2020-12-31  92.300003  90.870003  92.099998  91.709999  24920500  91.709999"
      ]
     },
     "execution_count": 5,
     "metadata": {},
     "output_type": "execute_result"
    }
   ],
   "source": [
    "AMD.tail()"
   ]
  },
  {
   "cell_type": "code",
   "execution_count": 6,
   "metadata": {},
   "outputs": [
    {
     "data": {
      "text/html": [
       "<div>\n",
       "<style scoped>\n",
       "    .dataframe tbody tr th:only-of-type {\n",
       "        vertical-align: middle;\n",
       "    }\n",
       "\n",
       "    .dataframe tbody tr th {\n",
       "        vertical-align: top;\n",
       "    }\n",
       "\n",
       "    .dataframe thead th {\n",
       "        text-align: right;\n",
       "    }\n",
       "</style>\n",
       "<table border=\"1\" class=\"dataframe\">\n",
       "  <thead>\n",
       "    <tr style=\"text-align: right;\">\n",
       "      <th></th>\n",
       "      <th>High</th>\n",
       "      <th>Low</th>\n",
       "      <th>Open</th>\n",
       "      <th>Close</th>\n",
       "      <th>Volume</th>\n",
       "      <th>Adj Close</th>\n",
       "    </tr>\n",
       "    <tr>\n",
       "      <th>Date</th>\n",
       "      <th></th>\n",
       "      <th></th>\n",
       "      <th></th>\n",
       "      <th></th>\n",
       "      <th></th>\n",
       "      <th></th>\n",
       "    </tr>\n",
       "  </thead>\n",
       "  <tbody>\n",
       "    <tr>\n",
       "      <th>2020-12-24</th>\n",
       "      <td>133.460007</td>\n",
       "      <td>131.100006</td>\n",
       "      <td>131.320007</td>\n",
       "      <td>131.970001</td>\n",
       "      <td>54930100.0</td>\n",
       "      <td>131.970001</td>\n",
       "    </tr>\n",
       "    <tr>\n",
       "      <th>2020-12-28</th>\n",
       "      <td>137.339996</td>\n",
       "      <td>133.509995</td>\n",
       "      <td>133.990005</td>\n",
       "      <td>136.690002</td>\n",
       "      <td>124486200.0</td>\n",
       "      <td>136.690002</td>\n",
       "    </tr>\n",
       "    <tr>\n",
       "      <th>2020-12-29</th>\n",
       "      <td>138.789993</td>\n",
       "      <td>134.339996</td>\n",
       "      <td>138.050003</td>\n",
       "      <td>134.869995</td>\n",
       "      <td>121047300.0</td>\n",
       "      <td>134.869995</td>\n",
       "    </tr>\n",
       "    <tr>\n",
       "      <th>2020-12-30</th>\n",
       "      <td>135.990005</td>\n",
       "      <td>133.399994</td>\n",
       "      <td>135.580002</td>\n",
       "      <td>133.720001</td>\n",
       "      <td>96452100.0</td>\n",
       "      <td>133.720001</td>\n",
       "    </tr>\n",
       "    <tr>\n",
       "      <th>2020-12-31</th>\n",
       "      <td>134.740005</td>\n",
       "      <td>131.720001</td>\n",
       "      <td>134.080002</td>\n",
       "      <td>132.690002</td>\n",
       "      <td>98990400.0</td>\n",
       "      <td>132.690002</td>\n",
       "    </tr>\n",
       "  </tbody>\n",
       "</table>\n",
       "</div>"
      ],
      "text/plain": [
       "                  High         Low        Open       Close       Volume  \\\n",
       "Date                                                                      \n",
       "2020-12-24  133.460007  131.100006  131.320007  131.970001   54930100.0   \n",
       "2020-12-28  137.339996  133.509995  133.990005  136.690002  124486200.0   \n",
       "2020-12-29  138.789993  134.339996  138.050003  134.869995  121047300.0   \n",
       "2020-12-30  135.990005  133.399994  135.580002  133.720001   96452100.0   \n",
       "2020-12-31  134.740005  131.720001  134.080002  132.690002   98990400.0   \n",
       "\n",
       "             Adj Close  \n",
       "Date                    \n",
       "2020-12-24  131.970001  \n",
       "2020-12-28  136.690002  \n",
       "2020-12-29  134.869995  \n",
       "2020-12-30  133.720001  \n",
       "2020-12-31  132.690002  "
      ]
     },
     "execution_count": 6,
     "metadata": {},
     "output_type": "execute_result"
    }
   ],
   "source": [
    "AAPL.tail()"
   ]
  },
  {
   "cell_type": "code",
   "execution_count": 7,
   "metadata": {},
   "outputs": [
    {
     "data": {
      "text/html": [
       "<div>\n",
       "<style scoped>\n",
       "    .dataframe tbody tr th:only-of-type {\n",
       "        vertical-align: middle;\n",
       "    }\n",
       "\n",
       "    .dataframe tbody tr th {\n",
       "        vertical-align: top;\n",
       "    }\n",
       "\n",
       "    .dataframe thead th {\n",
       "        text-align: right;\n",
       "    }\n",
       "</style>\n",
       "<table border=\"1\" class=\"dataframe\">\n",
       "  <thead>\n",
       "    <tr style=\"text-align: right;\">\n",
       "      <th></th>\n",
       "      <th>High</th>\n",
       "      <th>Low</th>\n",
       "      <th>Open</th>\n",
       "      <th>Close</th>\n",
       "      <th>Volume</th>\n",
       "      <th>Adj Close</th>\n",
       "    </tr>\n",
       "    <tr>\n",
       "      <th>Date</th>\n",
       "      <th></th>\n",
       "      <th></th>\n",
       "      <th></th>\n",
       "      <th></th>\n",
       "      <th></th>\n",
       "      <th></th>\n",
       "    </tr>\n",
       "  </thead>\n",
       "  <tbody>\n",
       "    <tr>\n",
       "      <th>2020-12-24</th>\n",
       "      <td>223.610001</td>\n",
       "      <td>221.199997</td>\n",
       "      <td>221.419998</td>\n",
       "      <td>222.750000</td>\n",
       "      <td>10550600.0</td>\n",
       "      <td>222.750000</td>\n",
       "    </tr>\n",
       "    <tr>\n",
       "      <th>2020-12-28</th>\n",
       "      <td>226.029999</td>\n",
       "      <td>223.020004</td>\n",
       "      <td>224.449997</td>\n",
       "      <td>224.960007</td>\n",
       "      <td>17933500.0</td>\n",
       "      <td>224.960007</td>\n",
       "    </tr>\n",
       "    <tr>\n",
       "      <th>2020-12-29</th>\n",
       "      <td>227.179993</td>\n",
       "      <td>223.580002</td>\n",
       "      <td>226.309998</td>\n",
       "      <td>224.149994</td>\n",
       "      <td>17403200.0</td>\n",
       "      <td>224.149994</td>\n",
       "    </tr>\n",
       "    <tr>\n",
       "      <th>2020-12-30</th>\n",
       "      <td>225.630005</td>\n",
       "      <td>221.470001</td>\n",
       "      <td>225.229996</td>\n",
       "      <td>221.679993</td>\n",
       "      <td>20272300.0</td>\n",
       "      <td>221.679993</td>\n",
       "    </tr>\n",
       "    <tr>\n",
       "      <th>2020-12-31</th>\n",
       "      <td>223.000000</td>\n",
       "      <td>219.679993</td>\n",
       "      <td>221.699997</td>\n",
       "      <td>222.419998</td>\n",
       "      <td>20926900.0</td>\n",
       "      <td>222.419998</td>\n",
       "    </tr>\n",
       "  </tbody>\n",
       "</table>\n",
       "</div>"
      ],
      "text/plain": [
       "                  High         Low        Open       Close      Volume  \\\n",
       "Date                                                                     \n",
       "2020-12-24  223.610001  221.199997  221.419998  222.750000  10550600.0   \n",
       "2020-12-28  226.029999  223.020004  224.449997  224.960007  17933500.0   \n",
       "2020-12-29  227.179993  223.580002  226.309998  224.149994  17403200.0   \n",
       "2020-12-30  225.630005  221.470001  225.229996  221.679993  20272300.0   \n",
       "2020-12-31  223.000000  219.679993  221.699997  222.419998  20926900.0   \n",
       "\n",
       "             Adj Close  \n",
       "Date                    \n",
       "2020-12-24  222.750000  \n",
       "2020-12-28  224.960007  \n",
       "2020-12-29  224.149994  \n",
       "2020-12-30  221.679993  \n",
       "2020-12-31  222.419998  "
      ]
     },
     "execution_count": 7,
     "metadata": {},
     "output_type": "execute_result"
    }
   ],
   "source": [
    "MSFT.tail()"
   ]
  },
  {
   "cell_type": "code",
   "execution_count": 8,
   "metadata": {},
   "outputs": [
    {
     "data": {
      "text/html": [
       "<div>\n",
       "<style scoped>\n",
       "    .dataframe tbody tr th:only-of-type {\n",
       "        vertical-align: middle;\n",
       "    }\n",
       "\n",
       "    .dataframe tbody tr th {\n",
       "        vertical-align: top;\n",
       "    }\n",
       "\n",
       "    .dataframe thead th {\n",
       "        text-align: right;\n",
       "    }\n",
       "</style>\n",
       "<table border=\"1\" class=\"dataframe\">\n",
       "  <thead>\n",
       "    <tr style=\"text-align: right;\">\n",
       "      <th></th>\n",
       "      <th>High</th>\n",
       "      <th>Low</th>\n",
       "      <th>Open</th>\n",
       "      <th>Close</th>\n",
       "      <th>Volume</th>\n",
       "      <th>Adj Close</th>\n",
       "    </tr>\n",
       "    <tr>\n",
       "      <th>Date</th>\n",
       "      <th></th>\n",
       "      <th></th>\n",
       "      <th></th>\n",
       "      <th></th>\n",
       "      <th></th>\n",
       "      <th></th>\n",
       "    </tr>\n",
       "  </thead>\n",
       "  <tbody>\n",
       "    <tr>\n",
       "      <th>2020-12-24</th>\n",
       "      <td>65.589996</td>\n",
       "      <td>64.779999</td>\n",
       "      <td>65.050003</td>\n",
       "      <td>64.959999</td>\n",
       "      <td>3796500.0</td>\n",
       "      <td>64.712372</td>\n",
       "    </tr>\n",
       "    <tr>\n",
       "      <th>2020-12-28</th>\n",
       "      <td>65.690002</td>\n",
       "      <td>64.750000</td>\n",
       "      <td>65.410004</td>\n",
       "      <td>64.870003</td>\n",
       "      <td>6463500.0</td>\n",
       "      <td>64.622719</td>\n",
       "    </tr>\n",
       "    <tr>\n",
       "      <th>2020-12-29</th>\n",
       "      <td>65.269997</td>\n",
       "      <td>64.220001</td>\n",
       "      <td>65.250000</td>\n",
       "      <td>64.459999</td>\n",
       "      <td>7770200.0</td>\n",
       "      <td>64.214279</td>\n",
       "    </tr>\n",
       "    <tr>\n",
       "      <th>2020-12-30</th>\n",
       "      <td>64.910004</td>\n",
       "      <td>64.349998</td>\n",
       "      <td>64.800003</td>\n",
       "      <td>64.400002</td>\n",
       "      <td>6192000.0</td>\n",
       "      <td>64.154510</td>\n",
       "    </tr>\n",
       "    <tr>\n",
       "      <th>2020-12-31</th>\n",
       "      <td>64.769997</td>\n",
       "      <td>64.010002</td>\n",
       "      <td>64.339996</td>\n",
       "      <td>64.690002</td>\n",
       "      <td>6928200.0</td>\n",
       "      <td>64.443405</td>\n",
       "    </tr>\n",
       "  </tbody>\n",
       "</table>\n",
       "</div>"
      ],
      "text/plain": [
       "                 High        Low       Open      Close     Volume  Adj Close\n",
       "Date                                                                        \n",
       "2020-12-24  65.589996  64.779999  65.050003  64.959999  3796500.0  64.712372\n",
       "2020-12-28  65.690002  64.750000  65.410004  64.870003  6463500.0  64.622719\n",
       "2020-12-29  65.269997  64.220001  65.250000  64.459999  7770200.0  64.214279\n",
       "2020-12-30  64.910004  64.349998  64.800003  64.400002  6192000.0  64.154510\n",
       "2020-12-31  64.769997  64.010002  64.339996  64.690002  6928200.0  64.443405"
      ]
     },
     "execution_count": 8,
     "metadata": {},
     "output_type": "execute_result"
    }
   ],
   "source": [
    "ORCL.tail()"
   ]
  },
  {
   "cell_type": "markdown",
   "metadata": {},
   "source": [
    "# Create a Portfolio of Selected Stocks"
   ]
  },
  {
   "cell_type": "code",
   "execution_count": 9,
   "metadata": {},
   "outputs": [],
   "source": [
    "# Normalizing stock prices (cumulative return)\n",
    "for stock in (AMD, AAPL, MSFT, ORCL):\n",
    "    stock['Normalizing Return'] = stock['Adj Close']/stock.iloc[0]['Adj Close']"
   ]
  },
  {
   "cell_type": "code",
   "execution_count": 10,
   "metadata": {},
   "outputs": [
    {
     "data": {
      "text/html": [
       "<div>\n",
       "<style scoped>\n",
       "    .dataframe tbody tr th:only-of-type {\n",
       "        vertical-align: middle;\n",
       "    }\n",
       "\n",
       "    .dataframe tbody tr th {\n",
       "        vertical-align: top;\n",
       "    }\n",
       "\n",
       "    .dataframe thead th {\n",
       "        text-align: right;\n",
       "    }\n",
       "</style>\n",
       "<table border=\"1\" class=\"dataframe\">\n",
       "  <thead>\n",
       "    <tr style=\"text-align: right;\">\n",
       "      <th></th>\n",
       "      <th>High</th>\n",
       "      <th>Low</th>\n",
       "      <th>Open</th>\n",
       "      <th>Close</th>\n",
       "      <th>Volume</th>\n",
       "      <th>Adj Close</th>\n",
       "      <th>Normalizing Return</th>\n",
       "    </tr>\n",
       "    <tr>\n",
       "      <th>Date</th>\n",
       "      <th></th>\n",
       "      <th></th>\n",
       "      <th></th>\n",
       "      <th></th>\n",
       "      <th></th>\n",
       "      <th></th>\n",
       "      <th></th>\n",
       "    </tr>\n",
       "  </thead>\n",
       "  <tbody>\n",
       "    <tr>\n",
       "      <th>2017-01-03</th>\n",
       "      <td>38.689999</td>\n",
       "      <td>38.299999</td>\n",
       "      <td>38.450001</td>\n",
       "      <td>38.549999</td>\n",
       "      <td>11051300.0</td>\n",
       "      <td>36.083473</td>\n",
       "      <td>1.000000</td>\n",
       "    </tr>\n",
       "    <tr>\n",
       "      <th>2017-01-04</th>\n",
       "      <td>38.919998</td>\n",
       "      <td>38.549999</td>\n",
       "      <td>38.549999</td>\n",
       "      <td>38.740002</td>\n",
       "      <td>9545500.0</td>\n",
       "      <td>36.261311</td>\n",
       "      <td>1.004928</td>\n",
       "    </tr>\n",
       "    <tr>\n",
       "      <th>2017-01-05</th>\n",
       "      <td>38.950001</td>\n",
       "      <td>38.410000</td>\n",
       "      <td>38.669998</td>\n",
       "      <td>38.639999</td>\n",
       "      <td>12064700.0</td>\n",
       "      <td>36.167709</td>\n",
       "      <td>1.002334</td>\n",
       "    </tr>\n",
       "    <tr>\n",
       "      <th>2017-01-06</th>\n",
       "      <td>38.750000</td>\n",
       "      <td>38.380001</td>\n",
       "      <td>38.750000</td>\n",
       "      <td>38.450001</td>\n",
       "      <td>14829700.0</td>\n",
       "      <td>35.989861</td>\n",
       "      <td>0.997406</td>\n",
       "    </tr>\n",
       "    <tr>\n",
       "      <th>2017-01-09</th>\n",
       "      <td>39.450001</td>\n",
       "      <td>38.470001</td>\n",
       "      <td>38.529999</td>\n",
       "      <td>39.029999</td>\n",
       "      <td>15587900.0</td>\n",
       "      <td>36.532753</td>\n",
       "      <td>1.012451</td>\n",
       "    </tr>\n",
       "  </tbody>\n",
       "</table>\n",
       "</div>"
      ],
      "text/plain": [
       "                 High        Low       Open      Close      Volume  Adj Close  \\\n",
       "Date                                                                            \n",
       "2017-01-03  38.689999  38.299999  38.450001  38.549999  11051300.0  36.083473   \n",
       "2017-01-04  38.919998  38.549999  38.549999  38.740002   9545500.0  36.261311   \n",
       "2017-01-05  38.950001  38.410000  38.669998  38.639999  12064700.0  36.167709   \n",
       "2017-01-06  38.750000  38.380001  38.750000  38.450001  14829700.0  35.989861   \n",
       "2017-01-09  39.450001  38.470001  38.529999  39.029999  15587900.0  36.532753   \n",
       "\n",
       "            Normalizing Return  \n",
       "Date                            \n",
       "2017-01-03            1.000000  \n",
       "2017-01-04            1.004928  \n",
       "2017-01-05            1.002334  \n",
       "2017-01-06            0.997406  \n",
       "2017-01-09            1.012451  "
      ]
     },
     "execution_count": 10,
     "metadata": {},
     "output_type": "execute_result"
    }
   ],
   "source": [
    "# Example of ORCL from the for loop\n",
    "stock.head()"
   ]
  },
  {
   "cell_type": "code",
   "execution_count": 11,
   "metadata": {},
   "outputs": [
    {
     "data": {
      "text/html": [
       "<div>\n",
       "<style scoped>\n",
       "    .dataframe tbody tr th:only-of-type {\n",
       "        vertical-align: middle;\n",
       "    }\n",
       "\n",
       "    .dataframe tbody tr th {\n",
       "        vertical-align: top;\n",
       "    }\n",
       "\n",
       "    .dataframe thead th {\n",
       "        text-align: right;\n",
       "    }\n",
       "</style>\n",
       "<table border=\"1\" class=\"dataframe\">\n",
       "  <thead>\n",
       "    <tr style=\"text-align: right;\">\n",
       "      <th></th>\n",
       "      <th>High</th>\n",
       "      <th>Low</th>\n",
       "      <th>Open</th>\n",
       "      <th>Close</th>\n",
       "      <th>Volume</th>\n",
       "      <th>Adj Close</th>\n",
       "      <th>Normalizing Return</th>\n",
       "    </tr>\n",
       "    <tr>\n",
       "      <th>Date</th>\n",
       "      <th></th>\n",
       "      <th></th>\n",
       "      <th></th>\n",
       "      <th></th>\n",
       "      <th></th>\n",
       "      <th></th>\n",
       "      <th></th>\n",
       "    </tr>\n",
       "  </thead>\n",
       "  <tbody>\n",
       "    <tr>\n",
       "      <th>2017-01-03</th>\n",
       "      <td>29.082500</td>\n",
       "      <td>28.690001</td>\n",
       "      <td>28.950001</td>\n",
       "      <td>29.037500</td>\n",
       "      <td>115127600.0</td>\n",
       "      <td>27.500973</td>\n",
       "      <td>1.000000</td>\n",
       "    </tr>\n",
       "    <tr>\n",
       "      <th>2017-01-04</th>\n",
       "      <td>29.127501</td>\n",
       "      <td>28.937500</td>\n",
       "      <td>28.962500</td>\n",
       "      <td>29.004999</td>\n",
       "      <td>84472400.0</td>\n",
       "      <td>27.470192</td>\n",
       "      <td>0.998881</td>\n",
       "    </tr>\n",
       "    <tr>\n",
       "      <th>2017-01-05</th>\n",
       "      <td>29.215000</td>\n",
       "      <td>28.952499</td>\n",
       "      <td>28.980000</td>\n",
       "      <td>29.152500</td>\n",
       "      <td>88774400.0</td>\n",
       "      <td>27.609884</td>\n",
       "      <td>1.003960</td>\n",
       "    </tr>\n",
       "    <tr>\n",
       "      <th>2017-01-06</th>\n",
       "      <td>29.540001</td>\n",
       "      <td>29.117500</td>\n",
       "      <td>29.195000</td>\n",
       "      <td>29.477501</td>\n",
       "      <td>127007600.0</td>\n",
       "      <td>27.917688</td>\n",
       "      <td>1.015153</td>\n",
       "    </tr>\n",
       "    <tr>\n",
       "      <th>2017-01-09</th>\n",
       "      <td>29.857500</td>\n",
       "      <td>29.485001</td>\n",
       "      <td>29.487499</td>\n",
       "      <td>29.747499</td>\n",
       "      <td>134247600.0</td>\n",
       "      <td>28.173399</td>\n",
       "      <td>1.024451</td>\n",
       "    </tr>\n",
       "  </tbody>\n",
       "</table>\n",
       "</div>"
      ],
      "text/plain": [
       "                 High        Low       Open      Close       Volume  \\\n",
       "Date                                                                  \n",
       "2017-01-03  29.082500  28.690001  28.950001  29.037500  115127600.0   \n",
       "2017-01-04  29.127501  28.937500  28.962500  29.004999   84472400.0   \n",
       "2017-01-05  29.215000  28.952499  28.980000  29.152500   88774400.0   \n",
       "2017-01-06  29.540001  29.117500  29.195000  29.477501  127007600.0   \n",
       "2017-01-09  29.857500  29.485001  29.487499  29.747499  134247600.0   \n",
       "\n",
       "            Adj Close  Normalizing Return  \n",
       "Date                                       \n",
       "2017-01-03  27.500973            1.000000  \n",
       "2017-01-04  27.470192            0.998881  \n",
       "2017-01-05  27.609884            1.003960  \n",
       "2017-01-06  27.917688            1.015153  \n",
       "2017-01-09  28.173399            1.024451  "
      ]
     },
     "execution_count": 11,
     "metadata": {},
     "output_type": "execute_result"
    }
   ],
   "source": [
    "AAPL.head()"
   ]
  },
  {
   "cell_type": "code",
   "execution_count": 12,
   "metadata": {},
   "outputs": [],
   "source": [
    "# Setting weights\n",
    "for stock, allo in zip((AMD, AAPL, MSFT, ORCL), [0.25, 0.25, 0.25, 0.25]):\n",
    "    stock['Allocation'] = stock['Normalizing Return']*allo"
   ]
  },
  {
   "cell_type": "code",
   "execution_count": 13,
   "metadata": {},
   "outputs": [
    {
     "data": {
      "text/html": [
       "<div>\n",
       "<style scoped>\n",
       "    .dataframe tbody tr th:only-of-type {\n",
       "        vertical-align: middle;\n",
       "    }\n",
       "\n",
       "    .dataframe tbody tr th {\n",
       "        vertical-align: top;\n",
       "    }\n",
       "\n",
       "    .dataframe thead th {\n",
       "        text-align: right;\n",
       "    }\n",
       "</style>\n",
       "<table border=\"1\" class=\"dataframe\">\n",
       "  <thead>\n",
       "    <tr style=\"text-align: right;\">\n",
       "      <th></th>\n",
       "      <th>High</th>\n",
       "      <th>Low</th>\n",
       "      <th>Open</th>\n",
       "      <th>Close</th>\n",
       "      <th>Volume</th>\n",
       "      <th>Adj Close</th>\n",
       "      <th>Normalizing Return</th>\n",
       "      <th>Allocation</th>\n",
       "    </tr>\n",
       "    <tr>\n",
       "      <th>Date</th>\n",
       "      <th></th>\n",
       "      <th></th>\n",
       "      <th></th>\n",
       "      <th></th>\n",
       "      <th></th>\n",
       "      <th></th>\n",
       "      <th></th>\n",
       "      <th></th>\n",
       "    </tr>\n",
       "  </thead>\n",
       "  <tbody>\n",
       "    <tr>\n",
       "      <th>2017-01-03</th>\n",
       "      <td>62.840000</td>\n",
       "      <td>62.130001</td>\n",
       "      <td>62.790001</td>\n",
       "      <td>62.580002</td>\n",
       "      <td>20694100.0</td>\n",
       "      <td>58.673244</td>\n",
       "      <td>1.000000</td>\n",
       "      <td>0.250000</td>\n",
       "    </tr>\n",
       "    <tr>\n",
       "      <th>2017-01-04</th>\n",
       "      <td>62.750000</td>\n",
       "      <td>62.119999</td>\n",
       "      <td>62.480000</td>\n",
       "      <td>62.299999</td>\n",
       "      <td>21340000.0</td>\n",
       "      <td>58.410725</td>\n",
       "      <td>0.995526</td>\n",
       "      <td>0.248881</td>\n",
       "    </tr>\n",
       "    <tr>\n",
       "      <th>2017-01-05</th>\n",
       "      <td>62.660000</td>\n",
       "      <td>62.029999</td>\n",
       "      <td>62.189999</td>\n",
       "      <td>62.299999</td>\n",
       "      <td>24876000.0</td>\n",
       "      <td>58.410725</td>\n",
       "      <td>0.995526</td>\n",
       "      <td>0.248881</td>\n",
       "    </tr>\n",
       "    <tr>\n",
       "      <th>2017-01-06</th>\n",
       "      <td>63.150002</td>\n",
       "      <td>62.040001</td>\n",
       "      <td>62.299999</td>\n",
       "      <td>62.840000</td>\n",
       "      <td>19922900.0</td>\n",
       "      <td>58.917015</td>\n",
       "      <td>1.004155</td>\n",
       "      <td>0.251039</td>\n",
       "    </tr>\n",
       "    <tr>\n",
       "      <th>2017-01-09</th>\n",
       "      <td>63.080002</td>\n",
       "      <td>62.540001</td>\n",
       "      <td>62.759998</td>\n",
       "      <td>62.639999</td>\n",
       "      <td>20382700.0</td>\n",
       "      <td>58.729496</td>\n",
       "      <td>1.000959</td>\n",
       "      <td>0.250240</td>\n",
       "    </tr>\n",
       "  </tbody>\n",
       "</table>\n",
       "</div>"
      ],
      "text/plain": [
       "                 High        Low       Open      Close      Volume  Adj Close  \\\n",
       "Date                                                                            \n",
       "2017-01-03  62.840000  62.130001  62.790001  62.580002  20694100.0  58.673244   \n",
       "2017-01-04  62.750000  62.119999  62.480000  62.299999  21340000.0  58.410725   \n",
       "2017-01-05  62.660000  62.029999  62.189999  62.299999  24876000.0  58.410725   \n",
       "2017-01-06  63.150002  62.040001  62.299999  62.840000  19922900.0  58.917015   \n",
       "2017-01-09  63.080002  62.540001  62.759998  62.639999  20382700.0  58.729496   \n",
       "\n",
       "            Normalizing Return  Allocation  \n",
       "Date                                        \n",
       "2017-01-03            1.000000    0.250000  \n",
       "2017-01-04            0.995526    0.248881  \n",
       "2017-01-05            0.995526    0.248881  \n",
       "2017-01-06            1.004155    0.251039  \n",
       "2017-01-09            1.000959    0.250240  "
      ]
     },
     "execution_count": 13,
     "metadata": {},
     "output_type": "execute_result"
    }
   ],
   "source": [
    "# Examining the allocation of a stock\n",
    "MSFT.head()"
   ]
  },
  {
   "cell_type": "code",
   "execution_count": 14,
   "metadata": {},
   "outputs": [],
   "source": [
    "# Assigning a value of $10,000 to the portfolio\n",
    "for stock in (AMD, AAPL, MSFT, ORCL):\n",
    "    stock['Position Value'] = stock['Allocation']*10000"
   ]
  },
  {
   "cell_type": "code",
   "execution_count": 15,
   "metadata": {},
   "outputs": [
    {
     "data": {
      "text/html": [
       "<div>\n",
       "<style scoped>\n",
       "    .dataframe tbody tr th:only-of-type {\n",
       "        vertical-align: middle;\n",
       "    }\n",
       "\n",
       "    .dataframe tbody tr th {\n",
       "        vertical-align: top;\n",
       "    }\n",
       "\n",
       "    .dataframe thead th {\n",
       "        text-align: right;\n",
       "    }\n",
       "</style>\n",
       "<table border=\"1\" class=\"dataframe\">\n",
       "  <thead>\n",
       "    <tr style=\"text-align: right;\">\n",
       "      <th></th>\n",
       "      <th>High</th>\n",
       "      <th>Low</th>\n",
       "      <th>Open</th>\n",
       "      <th>Close</th>\n",
       "      <th>Volume</th>\n",
       "      <th>Adj Close</th>\n",
       "      <th>Normalizing Return</th>\n",
       "      <th>Allocation</th>\n",
       "      <th>Position Value</th>\n",
       "    </tr>\n",
       "    <tr>\n",
       "      <th>Date</th>\n",
       "      <th></th>\n",
       "      <th></th>\n",
       "      <th></th>\n",
       "      <th></th>\n",
       "      <th></th>\n",
       "      <th></th>\n",
       "      <th></th>\n",
       "      <th></th>\n",
       "      <th></th>\n",
       "    </tr>\n",
       "  </thead>\n",
       "  <tbody>\n",
       "    <tr>\n",
       "      <th>2017-01-03</th>\n",
       "      <td>11.65</td>\n",
       "      <td>11.02</td>\n",
       "      <td>11.42</td>\n",
       "      <td>11.43</td>\n",
       "      <td>55182000</td>\n",
       "      <td>11.43</td>\n",
       "      <td>1.000000</td>\n",
       "      <td>0.250000</td>\n",
       "      <td>2500.000000</td>\n",
       "    </tr>\n",
       "    <tr>\n",
       "      <th>2017-01-04</th>\n",
       "      <td>11.52</td>\n",
       "      <td>11.24</td>\n",
       "      <td>11.45</td>\n",
       "      <td>11.43</td>\n",
       "      <td>40781200</td>\n",
       "      <td>11.43</td>\n",
       "      <td>1.000000</td>\n",
       "      <td>0.250000</td>\n",
       "      <td>2500.000000</td>\n",
       "    </tr>\n",
       "    <tr>\n",
       "      <th>2017-01-05</th>\n",
       "      <td>11.69</td>\n",
       "      <td>11.23</td>\n",
       "      <td>11.43</td>\n",
       "      <td>11.24</td>\n",
       "      <td>38855200</td>\n",
       "      <td>11.24</td>\n",
       "      <td>0.983377</td>\n",
       "      <td>0.245844</td>\n",
       "      <td>2458.442579</td>\n",
       "    </tr>\n",
       "    <tr>\n",
       "      <th>2017-01-06</th>\n",
       "      <td>11.49</td>\n",
       "      <td>11.11</td>\n",
       "      <td>11.29</td>\n",
       "      <td>11.32</td>\n",
       "      <td>34453500</td>\n",
       "      <td>11.32</td>\n",
       "      <td>0.990376</td>\n",
       "      <td>0.247594</td>\n",
       "      <td>2475.940375</td>\n",
       "    </tr>\n",
       "    <tr>\n",
       "      <th>2017-01-09</th>\n",
       "      <td>11.64</td>\n",
       "      <td>11.31</td>\n",
       "      <td>11.37</td>\n",
       "      <td>11.49</td>\n",
       "      <td>37304800</td>\n",
       "      <td>11.49</td>\n",
       "      <td>1.005249</td>\n",
       "      <td>0.251312</td>\n",
       "      <td>2513.123242</td>\n",
       "    </tr>\n",
       "  </tbody>\n",
       "</table>\n",
       "</div>"
      ],
      "text/plain": [
       "             High    Low   Open  Close    Volume  Adj Close  \\\n",
       "Date                                                          \n",
       "2017-01-03  11.65  11.02  11.42  11.43  55182000      11.43   \n",
       "2017-01-04  11.52  11.24  11.45  11.43  40781200      11.43   \n",
       "2017-01-05  11.69  11.23  11.43  11.24  38855200      11.24   \n",
       "2017-01-06  11.49  11.11  11.29  11.32  34453500      11.32   \n",
       "2017-01-09  11.64  11.31  11.37  11.49  37304800      11.49   \n",
       "\n",
       "            Normalizing Return  Allocation  Position Value  \n",
       "Date                                                        \n",
       "2017-01-03            1.000000    0.250000     2500.000000  \n",
       "2017-01-04            1.000000    0.250000     2500.000000  \n",
       "2017-01-05            0.983377    0.245844     2458.442579  \n",
       "2017-01-06            0.990376    0.247594     2475.940375  \n",
       "2017-01-09            1.005249    0.251312     2513.123242  "
      ]
     },
     "execution_count": 15,
     "metadata": {},
     "output_type": "execute_result"
    }
   ],
   "source": [
    "# Examining the amount in AMD\n",
    "AMD.head()"
   ]
  },
  {
   "cell_type": "markdown",
   "metadata": {},
   "source": [
    "# Setting Up Portfolio Dollar Values"
   ]
  },
  {
   "cell_type": "code",
   "execution_count": 16,
   "metadata": {},
   "outputs": [
    {
     "data": {
      "text/html": [
       "<div>\n",
       "<style scoped>\n",
       "    .dataframe tbody tr th:only-of-type {\n",
       "        vertical-align: middle;\n",
       "    }\n",
       "\n",
       "    .dataframe tbody tr th {\n",
       "        vertical-align: top;\n",
       "    }\n",
       "\n",
       "    .dataframe thead th {\n",
       "        text-align: right;\n",
       "    }\n",
       "</style>\n",
       "<table border=\"1\" class=\"dataframe\">\n",
       "  <thead>\n",
       "    <tr style=\"text-align: right;\">\n",
       "      <th></th>\n",
       "      <th>AMD</th>\n",
       "      <th>AAPL</th>\n",
       "      <th>MSFT</th>\n",
       "      <th>ORCL</th>\n",
       "      <th>Total</th>\n",
       "    </tr>\n",
       "    <tr>\n",
       "      <th>Date</th>\n",
       "      <th></th>\n",
       "      <th></th>\n",
       "      <th></th>\n",
       "      <th></th>\n",
       "      <th></th>\n",
       "    </tr>\n",
       "  </thead>\n",
       "  <tbody>\n",
       "    <tr>\n",
       "      <th>2017-01-03</th>\n",
       "      <td>2500.000000</td>\n",
       "      <td>2500.000000</td>\n",
       "      <td>2500.000000</td>\n",
       "      <td>2500.000000</td>\n",
       "      <td>10000.000000</td>\n",
       "    </tr>\n",
       "    <tr>\n",
       "      <th>2017-01-04</th>\n",
       "      <td>2500.000000</td>\n",
       "      <td>2497.201845</td>\n",
       "      <td>2488.814329</td>\n",
       "      <td>2512.321248</td>\n",
       "      <td>9998.337423</td>\n",
       "    </tr>\n",
       "    <tr>\n",
       "      <th>2017-01-05</th>\n",
       "      <td>2458.442579</td>\n",
       "      <td>2509.900697</td>\n",
       "      <td>2488.814329</td>\n",
       "      <td>2505.836200</td>\n",
       "      <td>9962.993805</td>\n",
       "    </tr>\n",
       "    <tr>\n",
       "      <th>2017-01-06</th>\n",
       "      <td>2475.940375</td>\n",
       "      <td>2537.881898</td>\n",
       "      <td>2510.386787</td>\n",
       "      <td>2493.514159</td>\n",
       "      <td>10017.723219</td>\n",
       "    </tr>\n",
       "    <tr>\n",
       "      <th>2017-01-09</th>\n",
       "      <td>2513.123242</td>\n",
       "      <td>2561.127494</td>\n",
       "      <td>2502.396813</td>\n",
       "      <td>2531.127809</td>\n",
       "      <td>10107.775359</td>\n",
       "    </tr>\n",
       "  </tbody>\n",
       "</table>\n",
       "</div>"
      ],
      "text/plain": [
       "                    AMD         AAPL         MSFT         ORCL         Total\n",
       "Date                                                                        \n",
       "2017-01-03  2500.000000  2500.000000  2500.000000  2500.000000  10000.000000\n",
       "2017-01-04  2500.000000  2497.201845  2488.814329  2512.321248   9998.337423\n",
       "2017-01-05  2458.442579  2509.900697  2488.814329  2505.836200   9962.993805\n",
       "2017-01-06  2475.940375  2537.881898  2510.386787  2493.514159  10017.723219\n",
       "2017-01-09  2513.123242  2561.127494  2502.396813  2531.127809  10107.775359"
      ]
     },
     "execution_count": 16,
     "metadata": {},
     "output_type": "execute_result"
    }
   ],
   "source": [
    "# Create a list of all position values\n",
    "position_values = [AMD['Position Value'], AAPL['Position Value'], MSFT['Position Value'], ORCL['Position Value']]\n",
    "\n",
    "# Concatenate the list of position values\n",
    "position_values = pd.concat(position_values, axis=1)\n",
    "\n",
    "# Name columns\n",
    "position_values. columns = ['AMD','AAPL','MSFT','ORCL']\n",
    "\n",
    "# Add a total for entire portfolio\n",
    "position_values['Total'] = position_values.sum(axis=1)\n",
    "position_values.head()"
   ]
  },
  {
   "cell_type": "code",
   "execution_count": 17,
   "metadata": {},
   "outputs": [
    {
     "data": {
      "text/plain": [
       "<matplotlib.axes._subplots.AxesSubplot at 0x18bb3175748>"
      ]
     },
     "execution_count": 17,
     "metadata": {},
     "output_type": "execute_result"
    },
    {
     "data": {
      "image/png": "[encoded data removed]",
      "text/plain": [
       "<Figure size 864x576 with 1 Axes>"
      ]
     },
     "metadata": {
      "needs_background": "light"
     },
     "output_type": "display_data"
    }
   ],
   "source": [
    "# Plot total portfolio\n",
    "position_values['Total'].plot(figsize=(12,8), title='$10k Portfolio')"
   ]
  },
  {
   "cell_type": "code",
   "execution_count": 18,
   "metadata": {},
   "outputs": [
    {
     "data": {
      "text/plain": [
       "<matplotlib.axes._subplots.AxesSubplot at 0x18bb30b9a88>"
      ]
     },
     "execution_count": 18,
     "metadata": {},
     "output_type": "execute_result"
    },
    {
     "data": {
      "image/png": "[encoded data removed]",
      "text/plain": [
       "<Figure size 864x576 with 1 Axes>"
      ]
     },
     "metadata": {
      "needs_background": "light"
     },
     "output_type": "display_data"
    }
   ],
   "source": [
    "# Plotting each stock within portfolio\n",
    "position_values.drop('Total', axis=1).plot(figsize=(12,8), title='Individual Stocks From Portfolio')"
   ]
  },
  {
   "cell_type": "code",
   "execution_count": 19,
   "metadata": {},
   "outputs": [
    {
     "data": {
      "text/plain": [
       "360.63301280784054"
      ]
     },
     "execution_count": 19,
     "metadata": {},
     "output_type": "execute_result"
    }
   ],
   "source": [
    "# Cumulative portfolio return in terms of percent\n",
    "cumulative_return = (position_values['Total'][-1]/position_values['Total'][0]-1) * 100\n",
    "cumulative_return"
   ]
  },
  {
   "cell_type": "markdown",
   "metadata": {},
   "source": [
    "# Daily Returns"
   ]
  },
  {
   "cell_type": "code",
   "execution_count": 20,
   "metadata": {},
   "outputs": [
    {
     "data": {
      "text/html": [
       "<div>\n",
       "<style scoped>\n",
       "    .dataframe tbody tr th:only-of-type {\n",
       "        vertical-align: middle;\n",
       "    }\n",
       "\n",
       "    .dataframe tbody tr th {\n",
       "        vertical-align: top;\n",
       "    }\n",
       "\n",
       "    .dataframe thead th {\n",
       "        text-align: right;\n",
       "    }\n",
       "</style>\n",
       "<table border=\"1\" class=\"dataframe\">\n",
       "  <thead>\n",
       "    <tr style=\"text-align: right;\">\n",
       "      <th></th>\n",
       "      <th>AMD</th>\n",
       "      <th>AAPL</th>\n",
       "      <th>MSFT</th>\n",
       "      <th>ORCL</th>\n",
       "      <th>Total</th>\n",
       "      <th>Daily Return</th>\n",
       "    </tr>\n",
       "    <tr>\n",
       "      <th>Date</th>\n",
       "      <th></th>\n",
       "      <th></th>\n",
       "      <th></th>\n",
       "      <th></th>\n",
       "      <th></th>\n",
       "      <th></th>\n",
       "    </tr>\n",
       "  </thead>\n",
       "  <tbody>\n",
       "    <tr>\n",
       "      <th>2017-01-03</th>\n",
       "      <td>2500.000000</td>\n",
       "      <td>2500.000000</td>\n",
       "      <td>2500.000000</td>\n",
       "      <td>2500.000000</td>\n",
       "      <td>10000.000000</td>\n",
       "      <td>NaN</td>\n",
       "    </tr>\n",
       "    <tr>\n",
       "      <th>2017-01-04</th>\n",
       "      <td>2500.000000</td>\n",
       "      <td>2497.201845</td>\n",
       "      <td>2488.814329</td>\n",
       "      <td>2512.321248</td>\n",
       "      <td>9998.337423</td>\n",
       "      <td>-0.000166</td>\n",
       "    </tr>\n",
       "    <tr>\n",
       "      <th>2017-01-05</th>\n",
       "      <td>2458.442579</td>\n",
       "      <td>2509.900697</td>\n",
       "      <td>2488.814329</td>\n",
       "      <td>2505.836200</td>\n",
       "      <td>9962.993805</td>\n",
       "      <td>-0.003535</td>\n",
       "    </tr>\n",
       "    <tr>\n",
       "      <th>2017-01-06</th>\n",
       "      <td>2475.940375</td>\n",
       "      <td>2537.881898</td>\n",
       "      <td>2510.386787</td>\n",
       "      <td>2493.514159</td>\n",
       "      <td>10017.723219</td>\n",
       "      <td>0.005493</td>\n",
       "    </tr>\n",
       "    <tr>\n",
       "      <th>2017-01-09</th>\n",
       "      <td>2513.123242</td>\n",
       "      <td>2561.127494</td>\n",
       "      <td>2502.396813</td>\n",
       "      <td>2531.127809</td>\n",
       "      <td>10107.775359</td>\n",
       "      <td>0.008989</td>\n",
       "    </tr>\n",
       "  </tbody>\n",
       "</table>\n",
       "</div>"
      ],
      "text/plain": [
       "                    AMD         AAPL         MSFT         ORCL         Total  \\\n",
       "Date                                                                           \n",
       "2017-01-03  2500.000000  2500.000000  2500.000000  2500.000000  10000.000000   \n",
       "2017-01-04  2500.000000  2497.201845  2488.814329  2512.321248   9998.337423   \n",
       "2017-01-05  2458.442579  2509.900697  2488.814329  2505.836200   9962.993805   \n",
       "2017-01-06  2475.940375  2537.881898  2510.386787  2493.514159  10017.723219   \n",
       "2017-01-09  2513.123242  2561.127494  2502.396813  2531.127809  10107.775359   \n",
       "\n",
       "            Daily Return  \n",
       "Date                      \n",
       "2017-01-03           NaN  \n",
       "2017-01-04     -0.000166  \n",
       "2017-01-05     -0.003535  \n",
       "2017-01-06      0.005493  \n",
       "2017-01-09      0.008989  "
      ]
     },
     "execution_count": 20,
     "metadata": {},
     "output_type": "execute_result"
    }
   ],
   "source": [
    "# Calculating daily returns\n",
    "position_values['Daily Return'] = position_values['Total'].pct_change(1)\n",
    "position_values.head()"
   ]
  },
  {
   "cell_type": "code",
   "execution_count": 21,
   "metadata": {},
   "outputs": [
    {
     "data": {
      "text/plain": [
       "0.001715185739209231"
      ]
     },
     "execution_count": 21,
     "metadata": {},
     "output_type": "execute_result"
    }
   ],
   "source": [
    "# Average daily return\n",
    "position_values['Daily Return'].mean()"
   ]
  },
  {
   "cell_type": "code",
   "execution_count": 22,
   "metadata": {},
   "outputs": [
    {
     "data": {
      "text/plain": [
       "0.01977868314416104"
      ]
     },
     "execution_count": 22,
     "metadata": {},
     "output_type": "execute_result"
    }
   ],
   "source": [
    "# Standard deviation\n",
    "position_values['Daily Return'].std()"
   ]
  },
  {
   "cell_type": "code",
   "execution_count": 23,
   "metadata": {},
   "outputs": [
    {
     "data": {
      "text/plain": [
       "0.08671890472726337"
      ]
     },
     "execution_count": 23,
     "metadata": {},
     "output_type": "execute_result"
    }
   ],
   "source": [
    "# Sharpe ratio (assuming Risk Free Rate to be close to zero)\n",
    "sharpe_ratio = position_values['Daily Return'].mean() / position_values['Daily Return'].std()\n",
    "sharpe_ratio"
   ]
  },
  {
   "cell_type": "code",
   "execution_count": 24,
   "metadata": {},
   "outputs": [
    {
     "data": {
      "text/plain": [
       "1.3766199352574544"
      ]
     },
     "execution_count": 24,
     "metadata": {},
     "output_type": "execute_result"
    }
   ],
   "source": [
    "# Annualize Sharpe ratio\n",
    "sharpe_ratio_annualized = (252**0.5) * sharpe_ratio\n",
    "sharpe_ratio_annualized"
   ]
  },
  {
   "cell_type": "markdown",
   "metadata": {},
   "source": [
    "# Set Up for Portfolio Optimization"
   ]
  },
  {
   "cell_type": "code",
   "execution_count": 25,
   "metadata": {},
   "outputs": [
    {
     "data": {
      "text/html": [
       "<div>\n",
       "<style scoped>\n",
       "    .dataframe tbody tr th:only-of-type {\n",
       "        vertical-align: middle;\n",
       "    }\n",
       "\n",
       "    .dataframe tbody tr th {\n",
       "        vertical-align: top;\n",
       "    }\n",
       "\n",
       "    .dataframe thead th {\n",
       "        text-align: right;\n",
       "    }\n",
       "</style>\n",
       "<table border=\"1\" class=\"dataframe\">\n",
       "  <thead>\n",
       "    <tr style=\"text-align: right;\">\n",
       "      <th></th>\n",
       "      <th>AMD</th>\n",
       "      <th>AAPL</th>\n",
       "      <th>MSFT</th>\n",
       "      <th>ORCL</th>\n",
       "    </tr>\n",
       "    <tr>\n",
       "      <th>Date</th>\n",
       "      <th></th>\n",
       "      <th></th>\n",
       "      <th></th>\n",
       "      <th></th>\n",
       "    </tr>\n",
       "  </thead>\n",
       "  <tbody>\n",
       "    <tr>\n",
       "      <th>2017-01-03</th>\n",
       "      <td>11.43</td>\n",
       "      <td>27.500973</td>\n",
       "      <td>58.673244</td>\n",
       "      <td>36.083473</td>\n",
       "    </tr>\n",
       "    <tr>\n",
       "      <th>2017-01-04</th>\n",
       "      <td>11.43</td>\n",
       "      <td>27.470192</td>\n",
       "      <td>58.410725</td>\n",
       "      <td>36.261311</td>\n",
       "    </tr>\n",
       "    <tr>\n",
       "      <th>2017-01-05</th>\n",
       "      <td>11.24</td>\n",
       "      <td>27.609884</td>\n",
       "      <td>58.410725</td>\n",
       "      <td>36.167709</td>\n",
       "    </tr>\n",
       "    <tr>\n",
       "      <th>2017-01-06</th>\n",
       "      <td>11.32</td>\n",
       "      <td>27.917688</td>\n",
       "      <td>58.917015</td>\n",
       "      <td>35.989861</td>\n",
       "    </tr>\n",
       "    <tr>\n",
       "      <th>2017-01-09</th>\n",
       "      <td>11.49</td>\n",
       "      <td>28.173399</td>\n",
       "      <td>58.729496</td>\n",
       "      <td>36.532753</td>\n",
       "    </tr>\n",
       "  </tbody>\n",
       "</table>\n",
       "</div>"
      ],
      "text/plain": [
       "              AMD       AAPL       MSFT       ORCL\n",
       "Date                                              \n",
       "2017-01-03  11.43  27.500973  58.673244  36.083473\n",
       "2017-01-04  11.43  27.470192  58.410725  36.261311\n",
       "2017-01-05  11.24  27.609884  58.410725  36.167709\n",
       "2017-01-06  11.32  27.917688  58.917015  35.989861\n",
       "2017-01-09  11.49  28.173399  58.729496  36.532753"
      ]
     },
     "execution_count": 25,
     "metadata": {},
     "output_type": "execute_result"
    }
   ],
   "source": [
    "# concatenate stocks and rename columns\n",
    "stocks = pd.concat([AMD['Adj Close'], AAPL['Adj Close'], MSFT['Adj Close'], ORCL['Adj Close']], axis=1)\n",
    "stocks.columns = ['AMD','AAPL','MSFT','ORCL']\n",
    "stocks.head()"
   ]
  },
  {
   "cell_type": "code",
   "execution_count": 26,
   "metadata": {},
   "outputs": [
    {
     "data": {
      "text/html": [
       "<div>\n",
       "<style scoped>\n",
       "    .dataframe tbody tr th:only-of-type {\n",
       "        vertical-align: middle;\n",
       "    }\n",
       "\n",
       "    .dataframe tbody tr th {\n",
       "        vertical-align: top;\n",
       "    }\n",
       "\n",
       "    .dataframe thead th {\n",
       "        text-align: right;\n",
       "    }\n",
       "</style>\n",
       "<table border=\"1\" class=\"dataframe\">\n",
       "  <thead>\n",
       "    <tr style=\"text-align: right;\">\n",
       "      <th></th>\n",
       "      <th>AMD</th>\n",
       "      <th>AAPL</th>\n",
       "      <th>MSFT</th>\n",
       "      <th>ORCL</th>\n",
       "    </tr>\n",
       "    <tr>\n",
       "      <th>Date</th>\n",
       "      <th></th>\n",
       "      <th></th>\n",
       "      <th></th>\n",
       "      <th></th>\n",
       "    </tr>\n",
       "  </thead>\n",
       "  <tbody>\n",
       "    <tr>\n",
       "      <th>2017-01-03</th>\n",
       "      <td>NaN</td>\n",
       "      <td>NaN</td>\n",
       "      <td>NaN</td>\n",
       "      <td>NaN</td>\n",
       "    </tr>\n",
       "    <tr>\n",
       "      <th>2017-01-04</th>\n",
       "      <td>0.000000</td>\n",
       "      <td>-0.001119</td>\n",
       "      <td>-0.004474</td>\n",
       "      <td>0.004928</td>\n",
       "    </tr>\n",
       "    <tr>\n",
       "      <th>2017-01-05</th>\n",
       "      <td>-0.016623</td>\n",
       "      <td>0.005085</td>\n",
       "      <td>0.000000</td>\n",
       "      <td>-0.002581</td>\n",
       "    </tr>\n",
       "    <tr>\n",
       "      <th>2017-01-06</th>\n",
       "      <td>0.007117</td>\n",
       "      <td>0.011148</td>\n",
       "      <td>0.008668</td>\n",
       "      <td>-0.004917</td>\n",
       "    </tr>\n",
       "    <tr>\n",
       "      <th>2017-01-09</th>\n",
       "      <td>0.015018</td>\n",
       "      <td>0.009159</td>\n",
       "      <td>-0.003183</td>\n",
       "      <td>0.015085</td>\n",
       "    </tr>\n",
       "  </tbody>\n",
       "</table>\n",
       "</div>"
      ],
      "text/plain": [
       "                 AMD      AAPL      MSFT      ORCL\n",
       "Date                                              \n",
       "2017-01-03       NaN       NaN       NaN       NaN\n",
       "2017-01-04  0.000000 -0.001119 -0.004474  0.004928\n",
       "2017-01-05 -0.016623  0.005085  0.000000 -0.002581\n",
       "2017-01-06  0.007117  0.011148  0.008668 -0.004917\n",
       "2017-01-09  0.015018  0.009159 -0.003183  0.015085"
      ]
     },
     "execution_count": 26,
     "metadata": {},
     "output_type": "execute_result"
    }
   ],
   "source": [
    "# Converting to percent change\n",
    "stock_return = stocks.pct_change(1)\n",
    "stock_return.head()"
   ]
  },
  {
   "cell_type": "markdown",
   "metadata": {},
   "source": [
    "# Prepare variables for Portfolio Optimization"
   ]
  },
  {
   "cell_type": "code",
   "execution_count": 27,
   "metadata": {},
   "outputs": [
    {
     "data": {
      "text/plain": [
       "array([[0., 0., 0., 0.],\n",
       "       [0., 0., 0., 0.],\n",
       "       [0., 0., 0., 0.],\n",
       "       ...,\n",
       "       [0., 0., 0., 0.],\n",
       "       [0., 0., 0., 0.],\n",
       "       [0., 0., 0., 0.]])"
      ]
     },
     "execution_count": 27,
     "metadata": {},
     "output_type": "execute_result"
    }
   ],
   "source": [
    "# Setting up for 10k different portfolio weighting combinations\n",
    "number_ports = 10000\n",
    "all_weights = np.zeros((number_ports, len(stocks.columns)))\n",
    "all_weights"
   ]
  },
  {
   "cell_type": "code",
   "execution_count": 28,
   "metadata": {},
   "outputs": [],
   "source": [
    "# Preallocating space for portfolio calculations\n",
    "returns_array = np.zeros(number_ports)\n",
    "volatility_array = np.zeros(number_ports)\n",
    "sharpe_array = np.zeros(number_ports)"
   ]
  },
  {
   "cell_type": "markdown",
   "metadata": {},
   "source": [
    "# Calculate Portfolio Combinations"
   ]
  },
  {
   "cell_type": "code",
   "execution_count": 29,
   "metadata": {},
   "outputs": [],
   "source": [
    "# For replication from randomizer\n",
    "import random\n",
    "random.seed(3)\n",
    "# Fun fact, different randomizer for numpy\n",
    "np.random.seed(3)\n",
    "\n",
    "for index in range(number_ports):\n",
    "    #generate random weights\n",
    "    numbers = np.array(np.random.random(4))\n",
    "    weights = numbers/np.sum(numbers)\n",
    "    \n",
    "    #save weights\n",
    "    all_weights[index, :] = weights\n",
    "    \n",
    "    #expected return\n",
    "    returns_array[index] = np.sum(stock_return.mean() * 252 * weights)\n",
    "    \n",
    "    #expected volatility = square root(Weights-Transposed * Covariance Matrix * Weights)\n",
    "    volatility_array[index] = np.sqrt(np.dot(weights.T, np.dot(stock_return.cov() * 252, weights)))\n",
    "    \n",
    "    #Sharpe ratio\n",
    "    sharpe_array[index] = returns_array[index] / volatility_array[index]"
   ]
  },
  {
   "cell_type": "code",
   "execution_count": 30,
   "metadata": {},
   "outputs": [
    {
     "name": "stdout",
     "output_type": "stream",
     "text": [
      "All Weights: [[0.26728964 0.34364796 0.14116943 0.24789297]\n",
      " [0.42079088 0.4223677  0.05918062 0.0976608 ]\n",
      " [0.05257192 0.45027163 0.03051749 0.46663895]\n",
      " ...\n",
      " [0.24310268 0.59296095 0.10174269 0.06219368]\n",
      " [0.52470347 0.17948521 0.08528315 0.21052817]\n",
      " [0.07789859 0.36983939 0.37856788 0.17369413]]\n",
      "First combination: [0.26728964 0.34364796 0.14116943 0.24789297]\n"
     ]
    }
   ],
   "source": [
    "#Print all weight combinations\n",
    "print(\"All Weights:\", all_weights)\n",
    "\n",
    "#Print first weights\n",
    "print(\"First combination:\", all_weights[0])"
   ]
  },
  {
   "cell_type": "code",
   "execution_count": 33,
   "metadata": {},
   "outputs": [
    {
     "name": "stdout",
     "output_type": "stream",
     "text": [
      "All Sharpe Ratios: [1.44059513 1.44763746 1.27662646 ... 1.51865052 1.33666089 1.44747815]\n",
      "Sharpe ratio of first portfolio: 1.4405951347733996\n"
     ]
    }
   ],
   "source": [
    "#Print all Sharpe ratios\n",
    "print(\"All Sharpe Ratios:\", sharpe_array)\n",
    "\n",
    "#Print first Sharpe ratio\n",
    "print(\"Sharpe ratio of first portfolio:\", sharpe_array[0])"
   ]
  },
  {
   "cell_type": "markdown",
   "metadata": {},
   "source": [
    "# Portfolio Weights of Highest Sharpe Ratio"
   ]
  },
  {
   "cell_type": "code",
   "execution_count": 34,
   "metadata": {},
   "outputs": [
    {
     "data": {
      "text/plain": [
       "1.5386938790203804"
      ]
     },
     "execution_count": 34,
     "metadata": {},
     "output_type": "execute_result"
    }
   ],
   "source": [
    "#Find highest Sharpe ratio\n",
    "sharpe_array.max()"
   ]
  },
  {
   "cell_type": "code",
   "execution_count": 36,
   "metadata": {},
   "outputs": [
    {
     "data": {
      "text/plain": [
       "9041"
      ]
     },
     "execution_count": 36,
     "metadata": {},
     "output_type": "execute_result"
    }
   ],
   "source": [
    "#Find by index\n",
    "index_max_sharpe = sharpe_array.argmax()\n",
    "index_max_sharpe"
   ]
  },
  {
   "cell_type": "code",
   "execution_count": 37,
   "metadata": {},
   "outputs": [
    {
     "name": "stdout",
     "output_type": "stream",
     "text": [
      "[0.20595086 0.4377708  0.35470386 0.00157448]\n",
      "Index(['AMD', 'AAPL', 'MSFT', 'ORCL'], dtype='object')\n"
     ]
    }
   ],
   "source": [
    "#Taking weights of the best portfolio\n",
    "print(all_weights[index_max_sharpe, :])\n",
    "print(stocks.columns)"
   ]
  },
  {
   "cell_type": "markdown",
   "metadata": {},
   "source": [
    "# Plot Efficient Frontier"
   ]
  },
  {
   "cell_type": "code",
   "execution_count": 39,
   "metadata": {},
   "outputs": [
    {
     "data": {
      "text/plain": [
       "Text(0, 0.5, 'Return')"
      ]
     },
     "execution_count": 39,
     "metadata": {},
     "output_type": "execute_result"
    },
    {
     "data": {
      "image/png": "[encoded data removed]",
      "text/plain": [
       "<Figure size 864x576 with 2 Axes>"
      ]
     },
     "metadata": {
      "needs_background": "light"
     },
     "output_type": "display_data"
    }
   ],
   "source": [
    "# plot heatmap\n",
    "plt.figure(figsize=(12,8))\n",
    "plt.scatter(volatility_array, returns_array, c=sharpe_array, cmap='viridis')\n",
    "plt.colorbar(label='Sharpe Ratio')\n",
    "plt.xlabel('Volatility')\n",
    "plt.ylabel('Return')"
   ]
  },
  {
   "cell_type": "code",
   "execution_count": 40,
   "metadata": {},
   "outputs": [
    {
     "data": {
      "text/plain": [
       "<matplotlib.collections.PathCollection at 0x18bb3bf76c8>"
      ]
     },
     "execution_count": 40,
     "metadata": {},
     "output_type": "execute_result"
    },
    {
     "data": {
      "image/png": "[encoded data removed]",
      "text/plain": [
       "<Figure size 864x576 with 2 Axes>"
      ]
     },
     "metadata": {
      "needs_background": "light"
     },
     "output_type": "display_data"
    }
   ],
   "source": [
    "#Plot optimal portfolio\n",
    "max_sharpe_return = returns_array[index_max_sharpe]\n",
    "max_sharpe_volatility = volatility_array[index_max_sharpe]\n",
    "\n",
    "# Plot heatmap\n",
    "plt.figure(figsize=(12,8))\n",
    "plt.scatter(volatility_array, returns_array, c=sharpe_array, cmap='viridis')\n",
    "plt.colorbar(label='Sharpe Ratio')\n",
    "plt.xlabel('Volatility')\n",
    "plt.ylabel('Return')\n",
    "\n",
    "# Add orange dot for easy viewing\n",
    "plt.scatter(max_sharpe_volatility, max_sharpe_return, c='orange', edgecolors='black')"
   ]
  },
  {
   "cell_type": "code",
   "execution_count": null,
   "metadata": {},
   "outputs": [],
   "source": []
  }
 ],
 "metadata": {
  "kernelspec": {
   "display_name": "Python 3",
   "language": "python",
   "name": "python3"
  },
  "language_info": {
   "codemirror_mode": {
    "name": "ipython",
    "version": 3
   },
   "file_extension": ".py",
   "mimetype": "text/x-python",
   "name": "python",
   "nbconvert_exporter": "python",
   "pygments_lexer": "ipython3",
   "version": "3.8.8"
  }
 },
 "nbformat": 4,
 "nbformat_minor": 4
}
